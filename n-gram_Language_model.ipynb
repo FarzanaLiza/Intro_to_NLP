{
 "cells": [
  {
   "cell_type": "markdown",
   "id": "023d8402",
   "metadata": {},
   "source": [
    "### **n-gram language model:**\n",
    "<br>An n-gram language model is a type of probabilistic language model used in natural language processing (NLP) and computational linguistics. It predicts the probability of a word based on the history of the previous $(n−1)$ words. This model is based on the Markov assumption, which posits that the probability of a word depends only on the previous $(n−1)$ words."
   ]
  },
  {
   "cell_type": "markdown",
   "id": "477a7ffc",
   "metadata": {},
   "source": [
    "Reference:\n",
    "<br>https://www.geeksforgeeks.org/n-gram-language-modelling-with-nltk/#:~:text=The%20answer%20lies%20in%20the,download%20%28%27punkt"
   ]
  },
  {
   "cell_type": "code",
   "execution_count": 1,
   "id": "54775f82",
   "metadata": {},
   "outputs": [
    {
     "name": "stderr",
     "output_type": "stream",
     "text": [
      "[nltk_data] Downloading package punkt to\n",
      "[nltk_data]     /Users/farzanayasmin/nltk_data...\n",
      "[nltk_data]   Package punkt is already up-to-date!\n",
      "[nltk_data] Downloading package stopwords to\n",
      "[nltk_data]     /Users/farzanayasmin/nltk_data...\n",
      "[nltk_data]   Package stopwords is already up-to-date!\n",
      "[nltk_data] Downloading package reuters to\n",
      "[nltk_data]     /Users/farzanayasmin/nltk_data...\n",
      "[nltk_data]   Package reuters is already up-to-date!\n"
     ]
    }
   ],
   "source": [
    "# imports \n",
    "import string \n",
    "import random \n",
    "import nltk \n",
    "nltk.download('punkt') \n",
    "nltk.download('stopwords') \n",
    "nltk.download('reuters') \n",
    "\n",
    "from nltk.corpus import reuters \n",
    "from nltk import FreqDist \n",
    "from nltk.corpus import stopwords\n",
    "from nltk.util import ngrams\n",
    "from collections import defaultdict, Counter\n",
    "\n",
    "from collections import defaultdict, Counter\n",
    "from nltk import FreqDist, ngrams\n",
    "import random"
   ]
  },
  {
   "cell_type": "code",
   "execution_count": 64,
   "id": "87f596dc",
   "metadata": {},
   "outputs": [
    {
     "name": "stderr",
     "output_type": "stream",
     "text": [
      "[nltk_data] Downloading package inaugural to\n",
      "[nltk_data]     /Users/farzanayasmin/nltk_data...\n",
      "[nltk_data]   Package inaugural is already up-to-date!\n"
     ]
    }
   ],
   "source": [
    "# The reuters.sents() function specifically returns sentences from the Reuters Corpus. \n",
    "# Each sentence is tokenized, so the result is a list of sentences, where each sentence is itself a list of words.\n",
    "# input the reuters sentences \n",
    "#sents  =reuters.sents() \n",
    "\n",
    "# Inaugural Address Corpus: This is a collection of U.S. presidential inaugural addresses, useful for diachronic analysis.\n",
    "# This allows researchers to analyze changes in political discourse, language usage, and the introduction of new terminologies over time.\n",
    "# 'inaugural' corpus in the NLTK library is tokenized\n",
    "nltk.download('inaugural')\n",
    "\n",
    "from nltk.corpus import inaugural\n",
    "sents = inaugural.sents()"
   ]
  },
  {
   "cell_type": "code",
   "execution_count": 63,
   "id": "958867ff",
   "metadata": {},
   "outputs": [
    {
     "data": {
      "text/plain": [
       "['Fellow', '-', 'Citizens', 'of', 'the', 'Senate', ...]"
      ]
     },
     "execution_count": 63,
     "metadata": {},
     "output_type": "execute_result"
    }
   ],
   "source": [
    "#sents  =reuters.sents() \n",
    "#sents\n",
    "\n",
    "inaugural_words = inaugural.words()\n",
    "inaugural_words"
   ]
  },
  {
   "cell_type": "code",
   "execution_count": 55,
   "id": "fdc0aefe",
   "metadata": {},
   "outputs": [
    {
     "data": {
      "text/plain": [
       "5220"
      ]
     },
     "execution_count": 55,
     "metadata": {},
     "output_type": "execute_result"
    }
   ],
   "source": [
    "len(sents)"
   ]
  },
  {
   "cell_type": "code",
   "execution_count": 56,
   "id": "12884d1f",
   "metadata": {},
   "outputs": [
    {
     "data": {
      "text/plain": [
       "['weren',\n",
       " 'ain',\n",
       " 'are',\n",
       " 'do',\n",
       " 'more',\n",
       " 'it',\n",
       " \"haven't\",\n",
       " 'himself',\n",
       " 'haven',\n",
       " \"she's\",\n",
       " 'no',\n",
       " 'did',\n",
       " 'hadn',\n",
       " 'so',\n",
       " \"shan't\",\n",
       " 'wasn',\n",
       " 's',\n",
       " 'is',\n",
       " 'against',\n",
       " 'where',\n",
       " 'were',\n",
       " \"isn't\",\n",
       " 'i',\n",
       " 'during',\n",
       " \"won't\",\n",
       " \"that'll\",\n",
       " 'he',\n",
       " 'through',\n",
       " 'having',\n",
       " 'after',\n",
       " 'themselves',\n",
       " 'does',\n",
       " 'once',\n",
       " 'because',\n",
       " \"mustn't\",\n",
       " 'but',\n",
       " 'here',\n",
       " 'd',\n",
       " \"you've\",\n",
       " 'now',\n",
       " 'their',\n",
       " 'above',\n",
       " 'him',\n",
       " \"couldn't\",\n",
       " 'has',\n",
       " 'our',\n",
       " 'hers',\n",
       " \"shouldn't\",\n",
       " 'o',\n",
       " 'to',\n",
       " 'those',\n",
       " 'on',\n",
       " 'who',\n",
       " 'you',\n",
       " 'don',\n",
       " 'hasn',\n",
       " 'these',\n",
       " \"mightn't\",\n",
       " 'each',\n",
       " 'out',\n",
       " \"should've\",\n",
       " 'his',\n",
       " \"aren't\",\n",
       " 'an',\n",
       " 'yourselves',\n",
       " 'been',\n",
       " 'other',\n",
       " 'how',\n",
       " 'before',\n",
       " 'nor',\n",
       " 'mustn',\n",
       " 'the',\n",
       " 'yours',\n",
       " 'both',\n",
       " 'there',\n",
       " 'then',\n",
       " 't',\n",
       " 'my',\n",
       " 'own',\n",
       " 'aren',\n",
       " 'which',\n",
       " 'had',\n",
       " 'down',\n",
       " 'all',\n",
       " \"you're\",\n",
       " 'mightn',\n",
       " \"hasn't\",\n",
       " 'very',\n",
       " 'be',\n",
       " 're',\n",
       " 'herself',\n",
       " 'up',\n",
       " 'doesn',\n",
       " 'in',\n",
       " 'isn',\n",
       " 'being',\n",
       " 'just',\n",
       " 'into',\n",
       " 'of',\n",
       " 'why',\n",
       " 've',\n",
       " 'won',\n",
       " 'shan',\n",
       " 'some',\n",
       " 'should',\n",
       " 'at',\n",
       " 'further',\n",
       " 'and',\n",
       " 'that',\n",
       " 'only',\n",
       " 'such',\n",
       " 'she',\n",
       " 'or',\n",
       " 'was',\n",
       " 'than',\n",
       " 'they',\n",
       " 'a',\n",
       " 'its',\n",
       " 'by',\n",
       " 'can',\n",
       " 'ma',\n",
       " 'for',\n",
       " 'shouldn',\n",
       " 'doing',\n",
       " 'off',\n",
       " 'between',\n",
       " 'from',\n",
       " \"you'd\",\n",
       " 'too',\n",
       " 'me',\n",
       " \"wasn't\",\n",
       " 'most',\n",
       " \"you'll\",\n",
       " 'have',\n",
       " 'll',\n",
       " 'what',\n",
       " 'am',\n",
       " 'under',\n",
       " \"hadn't\",\n",
       " 'about',\n",
       " 'yourself',\n",
       " 'few',\n",
       " 'when',\n",
       " \"it's\",\n",
       " \"doesn't\",\n",
       " 'over',\n",
       " 'will',\n",
       " 'whom',\n",
       " 'we',\n",
       " \"don't\",\n",
       " 'couldn',\n",
       " 'your',\n",
       " 'this',\n",
       " 'y',\n",
       " 'ourselves',\n",
       " \"weren't\",\n",
       " 'ours',\n",
       " 'm',\n",
       " 'any',\n",
       " 'as',\n",
       " \"didn't\",\n",
       " 'them',\n",
       " 'didn',\n",
       " \"needn't\",\n",
       " 'not',\n",
       " 'wouldn',\n",
       " 'theirs',\n",
       " 'if',\n",
       " \"wouldn't\",\n",
       " 'again',\n",
       " 'myself',\n",
       " 'her',\n",
       " 'itself',\n",
       " 'until',\n",
       " 'needn',\n",
       " 'with',\n",
       " 'same',\n",
       " 'below',\n",
       " 'while',\n",
       " '!',\n",
       " '\"',\n",
       " '#',\n",
       " '$',\n",
       " '%',\n",
       " '&',\n",
       " \"'\",\n",
       " '(',\n",
       " ')',\n",
       " '*',\n",
       " '+',\n",
       " ',',\n",
       " '-',\n",
       " '.',\n",
       " '/',\n",
       " ':',\n",
       " ';',\n",
       " '<',\n",
       " '=',\n",
       " '>',\n",
       " '?',\n",
       " '@',\n",
       " '[',\n",
       " '\\\\',\n",
       " ']',\n",
       " '^',\n",
       " '_',\n",
       " '`',\n",
       " '{',\n",
       " '|',\n",
       " '}',\n",
       " '~',\n",
       " '\"',\n",
       " '\"',\n",
       " '-',\n",
       " '+',\n",
       " '—',\n",
       " ',',\n",
       " '\"',\n",
       " '\"',\n",
       " '\"',\n",
       " '-',\n",
       " '+',\n",
       " '—',\n",
       " ',',\n",
       " '\"',\n",
       " '\"',\n",
       " '\"',\n",
       " '-',\n",
       " '+',\n",
       " '—',\n",
       " ',',\n",
       " '\"',\n",
       " '\"',\n",
       " '\"',\n",
       " '-',\n",
       " '+',\n",
       " '—',\n",
       " ',',\n",
       " '\"',\n",
       " '\"',\n",
       " '\"',\n",
       " '-',\n",
       " '+',\n",
       " '—',\n",
       " ',',\n",
       " '\"',\n",
       " '\"',\n",
       " '\"',\n",
       " '-',\n",
       " '+',\n",
       " '—',\n",
       " ',',\n",
       " '\"',\n",
       " '\"',\n",
       " '\"',\n",
       " '-',\n",
       " '+',\n",
       " '—',\n",
       " ',',\n",
       " '\"',\n",
       " 'lt',\n",
       " 'rt']"
      ]
     },
     "execution_count": 56,
     "metadata": {},
     "output_type": "execute_result"
    }
   ],
   "source": [
    "# write the removal characters such as : Stopwords and punctuation \n",
    "stop_words = set(stopwords.words('english')) \n",
    "string.punctuation = string.punctuation +'\"'+'\"'+'-'+'''+'''+'—'+',\"' \n",
    "#string.punctuation \n",
    "removal_list = list(stop_words) + list(string.punctuation)+ ['lt','rt'] \n",
    "removal_list "
   ]
  },
  {
   "cell_type": "code",
   "execution_count": 57,
   "id": "45b7e4ad",
   "metadata": {},
   "outputs": [],
   "source": [
    "# generate unigrams bigrams trigrams \n",
    "unigram=[] \n",
    "bigram=[] \n",
    "trigram=[] \n",
    "tokenized_text=[] \n",
    "\n",
    "for sentence in sents: \n",
    "    sentence = list(map(lambda x:x.lower(),sentence)) \n",
    "    for word in sentence: \n",
    "        if word in string.punctuation:\n",
    "        #if word== '.': \n",
    "            sentence.remove(word)  \n",
    "        else: \n",
    "            unigram.append(word) \n",
    "    \n",
    "    tokenized_text.append(sentence) \n",
    "    bigram.extend(list(ngrams(sentence, 2,pad_left=True, pad_right=True))) \n",
    "    trigram.extend(list(ngrams(sentence, 3, pad_left=True, pad_right=True))) \n",
    "    \n",
    "# remove removable words from the n-grams \n",
    "# If all words are stopwords, count should remain 0.\n",
    "# If there is at least one non-stopword, count should become 1\n",
    "\n",
    "def remove_stopwords(x):      \n",
    "    y = [] \n",
    "    for pair in x: \n",
    "        count = 0\n",
    "        for word in pair: \n",
    "            if word in removal_list: \n",
    "                count = count or 0\n",
    "            else: \n",
    "                count = count or 1\n",
    "        if (count==1): \n",
    "            y.append(pair) \n",
    "    return (y) \n",
    "unigram = remove_stopwords(unigram) \n",
    "bigram = remove_stopwords(bigram) \n",
    "trigram = remove_stopwords(trigram) \n",
    "\n",
    "\n",
    "#def remove_stopwords(x, removal_list):      \n",
    "#    y = [] \n",
    "#    for ngram in x: \n",
    "#        if not any(word in removal_list for word in ngram): \n",
    "#            y.append(ngram)\n",
    "#    return y\n",
    "\n",
    "# Assuming removal_list is defined somewhere above this code\n",
    "# Assuming unigram, bigram, trigram are defined and are lists of tuples\n",
    "\n",
    "#unigram = remove_stopwords(unigram, removal_list)\n",
    "#bigram = remove_stopwords(bigram, removal_list)\n",
    "#trigram = remove_stopwords(trigram, removal_list)\n"
   ]
  },
  {
   "cell_type": "code",
   "execution_count": 58,
   "id": "5a8d1288",
   "metadata": {},
   "outputs": [
    {
     "data": {
      "image/png": "[encoded data removed]",
      "text/plain": [
       "<Figure size 1500x500 with 1 Axes>"
      ]
     },
     "metadata": {},
     "output_type": "display_data"
    }
   ],
   "source": [
    "import matplotlib.pyplot as plt\n",
    "from nltk import FreqDist\n",
    "\n",
    "# Assuming 'bigram' and 'trigram' are lists of bigram and trigram tuples\n",
    "freq_bi = FreqDist(bigram)\n",
    "freq_tri = FreqDist(trigram)\n",
    "\n",
    "# Get the most common bigrams and trigrams\n",
    "most_common_bigrams = freq_bi.most_common(10)\n",
    "most_common_trigrams = freq_tri.most_common(10)\n",
    "\n",
    "# Extract the bigrams/trigrams and their counts\n",
    "bigrams, bi_counts = zip(*most_common_bigrams)\n",
    "trigrams, tri_counts = zip(*most_common_trigrams)\n",
    "\n",
    "# Plotting\n",
    "fig, ax = plt.subplots(figsize=(15, 5))\n",
    "\n",
    "# Plot bigrams\n",
    "bi_x = range(len(bigrams))\n",
    "ax.bar(bi_x, bi_counts, width=0.4, label='Bigrams', align='center')\n",
    "\n",
    "# Plot trigrams\n",
    "tri_x = [x + 0.4 for x in bi_x]  # Offset the trigrams on the x-axis\n",
    "ax.bar(tri_x, tri_counts, width=0.4, label='Trigrams', align='center')\n",
    "\n",
    "# Formatting the plot\n",
    "ax.set_xlabel('N-grams')\n",
    "ax.set_ylabel('Counts')\n",
    "ax.set_title('Top 10 most common bigrams and trigrams')\n",
    "ax.legend()\n",
    "\n",
    "# Set the x-ticks to be the middle of the two bars\n",
    "ax.set_xticks([x + 0.2 for x in bi_x])\n",
    "ax.set_xticklabels(bigrams, rotation=45)\n",
    "\n",
    "# Display the plot\n",
    "plt.show()"
   ]
  },
  {
   "cell_type": "code",
   "execution_count": 59,
   "id": "95e94923",
   "metadata": {},
   "outputs": [
    {
     "data": {
      "text/plain": [
       "((None, None, 'the'),\n",
       " (None, None, 'we'),\n",
       " (None, None, 'it'),\n",
       " (None, None, 'i'),\n",
       " (None, None, 'in'),\n",
       " (None, None, 'and'),\n",
       " (None, None, 'but'),\n",
       " (None, None, 'our'),\n",
       " (None, 'it', 'is'),\n",
       " ('the', 'united', 'states'))"
      ]
     },
     "execution_count": 59,
     "metadata": {},
     "output_type": "execute_result"
    }
   ],
   "source": [
    "trigrams"
   ]
  },
  {
   "cell_type": "code",
   "execution_count": 78,
   "id": "3c07fd9a",
   "metadata": {},
   "outputs": [],
   "source": [
    "# Removing 'None' from tri-gram\n",
    "\n",
    "freq_tri = FreqDist(filtered_trigrams)\n",
    "\n",
    "# Assuming trigram is a list of trigram tuples\n",
    "filtered_trigrams = [(a, b, c) for a, b, c in trigram if a is not None and b is not None and c is not None]\n",
    "\n",
    "# Then create your frequency distribution from the filtered list\n",
    "freq_tri = FreqDist(filtered_trigrams)\n"
   ]
  },
  {
   "cell_type": "markdown",
   "id": "1b60ca63",
   "metadata": {},
   "source": [
    "- Transforming a trigram frequency distribution into a bigram-to-word frequency mapping. \n",
    "- For each bigram (a, b), it keeps track of how often each subsequent word c follows it. \n",
    "- This structure can be used for next word in a sequence given the two previous words (a bigram)."
   ]
  },
  {
   "cell_type": "code",
   "execution_count": 79,
   "id": "be797bc0",
   "metadata": {},
   "outputs": [],
   "source": [
    "# generate frequency of n-grams \n",
    "\n",
    "d = defaultdict(Counter) \n",
    "for a, b, c in freq_tri: \n",
    "    if a is not None and b is not None and c is not None: \n",
    "        d[a, b][c] += freq_tri[a, b, c]"
   ]
  },
  {
   "cell_type": "code",
   "execution_count": 80,
   "id": "97f667fb",
   "metadata": {},
   "outputs": [
    {
     "data": {
      "text/plain": [
       "FreqDist({('the', 'united', 'states'): 153, ('of', 'the', 'united'): 100, ('of', 'the', 'people'): 99, ('of', 'the', 'government'): 79, ('of', 'the', 'world'): 66, ('of', 'our', 'country'): 50, ('of', 'the', 'union'): 49, ('of', 'our', 'people'): 48, ('as', 'well', 'as'): 47, ('of', 'the', 'country'): 47, ...})"
      ]
     },
     "execution_count": 80,
     "metadata": {},
     "output_type": "execute_result"
    }
   ],
   "source": [
    "freq_tri"
   ]
  },
  {
   "cell_type": "code",
   "execution_count": 81,
   "id": "3808291f",
   "metadata": {},
   "outputs": [
    {
     "data": {
      "image/png": "[encoded data removed]",
      "text/plain": [
       "<Figure size 1000x500 with 1 Axes>"
      ]
     },
     "metadata": {},
     "output_type": "display_data"
    }
   ],
   "source": [
    "most_common_trigrams = freq_tri.most_common(10)\n",
    "\n",
    "# Extract the bigrams/trigrams and their counts\n",
    "\n",
    "trigrams, tri_counts = zip(*most_common_trigrams)\n",
    "\n",
    "# Plotting\n",
    "fig, ax = plt.subplots(figsize=(10, 5))\n",
    "\n",
    "\n",
    "# Plot trigrams\n",
    "tri_x = [x + 0.4 for x in tri_x]  # Offset the trigrams on the x-axis\n",
    "ax.bar(tri_x, tri_counts, width=0.4, label='Trigrams', align='center')\n",
    "\n",
    "# Formatting the plot\n",
    "ax.set_xlabel('N-grams')\n",
    "ax.set_ylabel('Counts')\n",
    "ax.set_title('Top 10 most common bigrams and trigrams')\n",
    "ax.legend()\n",
    "\n",
    "# Set the x-ticks to be the middle of the two bars\n",
    "ax.set_xticks([x + 0.2 for x in tri_x])\n",
    "ax.set_xticklabels(trigrams, rotation=45)\n",
    "\n",
    "# Display the plot\n",
    "plt.show()"
   ]
  },
  {
   "cell_type": "code",
   "execution_count": 82,
   "id": "1a82e193",
   "metadata": {},
   "outputs": [
    {
     "name": "stdout",
     "output_type": "stream",
     "text": [
      "he said\n",
      "he said \"\n",
      "he said \" it\n",
      "he said \" it carries\n",
      "he said \" it carries me\n",
      "he said \" it carries me back\n",
      "he said \" it carries me back to\n",
      "he said \" it carries me back to the\n",
      "he said \" it carries me back to the zeal\n",
      "he said \" it carries me back to the zeal of\n",
      "he said \" it carries me back to the zeal of the\n",
      "he said \" it carries me back to the zeal of the industrial\n",
      "he said \" it carries me back to the zeal of the industrial activity\n",
      "he said \" it carries me back to the zeal of the industrial activity in\n",
      "he said \" it carries me back to the zeal of the industrial activity in the\n",
      "he said \" it carries me back to the zeal of the industrial activity in the problems\n",
      "he said \" it carries me back to the zeal of the industrial activity in the problems of\n",
      "he said \" it carries me back to the zeal of the industrial activity in the problems of progress\n",
      "he said \" it carries me back to the zeal of the industrial activity in the problems of progress throughout\n",
      "he said \" it carries me back to the zeal of the industrial activity in the problems of progress throughout our\n"
     ]
    }
   ],
   "source": [
    "# Next word prediction       \n",
    "s='' \n",
    "def pick_word(counter): \n",
    "    \"Chooses a random element.\"\n",
    "    return random.choice(list(counter.elements())) \n",
    "prefix = \"he\", \"said\"\n",
    "print(\" \".join(prefix)) \n",
    "s = \" \".join(prefix) \n",
    "for i in range(19): \n",
    "    suffix = pick_word(d[prefix]) \n",
    "    s=s+' '+suffix \n",
    "    print(s) \n",
    "    prefix = prefix[1], suffix "
   ]
  }
 ],
 "metadata": {
  "kernelspec": {
   "display_name": "Python 3 (ipykernel)",
   "language": "python",
   "name": "python3"
  },
  "language_info": {
   "codemirror_mode": {
    "name": "ipython",
    "version": 3
   },
   "file_extension": ".py",
   "mimetype": "text/x-python",
   "name": "python",
   "nbconvert_exporter": "python",
   "pygments_lexer": "ipython3",
   "version": "3.9.12"
  }
 },
 "nbformat": 4,
 "nbformat_minor": 5
}
